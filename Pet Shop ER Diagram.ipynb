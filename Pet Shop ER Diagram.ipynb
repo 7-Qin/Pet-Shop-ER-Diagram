{
 "cells": [
  {
   "cell_type": "markdown",
   "metadata": {},
   "source": [
    "# Pet Shop ER Diagram"
   ]
  },
  {
   "cell_type": "markdown",
   "metadata": {},
   "source": [
    "## Dahai Qin, Andrew Crystal, and Taksh\n",
    "\n"
   ]
  },
  {
   "cell_type": "code",
   "execution_count": 2,
   "metadata": {},
   "outputs": [
    {
     "data": {
      "text/html": [
       "<img src=\"./erdiagram.png\">\n"
      ],
      "text/plain": [
       "<IPython.core.display.HTML object>"
      ]
     },
     "metadata": {},
     "output_type": "display_data"
    }
   ],
   "source": [
    "%%html\n",
    "<img src=\"./erdiagram.png\">"
   ]
  },
  {
   "cell_type": "markdown",
   "metadata": {},
   "source": [
    "### Description:"
   ]
  },
  {
   "cell_type": "markdown",
   "metadata": {},
   "source": [
    "#### In our entity relationship diagram for a pet shop, we included 5 tables. Our first entity, fish, consisted of a primary key termed Pet_ID to identify each fish and make it easier for us to record the payment and stock remaining for that specific fish. Also, the table has other attributes to store the fish information, such as, characteristics, age and cost. \n",
    "\n",
    "#### The second entity, pet, is similar to the fish entity in the sense that the primary key is also Pet_ID and the attributes are also characteristics, age, and cost. This table is very similar to the other table because each pet needs to be identified and this makes it easier to record our data. Both Pet_ID is important in these first two tables because it enables us to know which animals have been bought. \n",
    "\n",
    "#### The third entity table, customer, is meant to record all customer information and if the customer is part of our loyalty program. The primary key for this table is User_ID and the attributes are membership, email, phone_num, and payment. User_ID helps us determine who the customer is and allows us to look them up quicker in our database. \n",
    "\n",
    "#### The fourth entity table, Stock, overall purpose is to enable us to monitor the amount of pet food we have available to give to our animals and to sell to customers. Also, to track which pets have been sold and are still available to customers. Order_ID is the primary key for this entity and the attributes consist of purchase_history, sales_history, Pet_ID (Foreigner Key), and User_ID (Foreigner key). \n",
    "\n",
    "#### Our last table, payment, is the most essential table because it is used to record each transaction. The primary key is Payment_ID and the attributes are User_ID (Foreigner Key), Pet_ID (Foreigner Key), price, and Order_ID (Foreigner Key). For a business, payments are vital and in order to ensure successful payments, we need three foreign keys from each different entity table. \n",
    "\n",
    "#### There are many relationships between our entities. For the stock entity there is a relationship between the Pet_ID (foreign key) and the fish data table’s Pet_ID (Primary Key). Also, there is a relationship between the customer entity, User_ID (primary key), and the stock table User_ID (foreigner key). Lastly, all the entities, fish, pet, stock and customer have links to our payment table. The primary key in the other entity tables have a relationship with one of the foreigner keys in the payment table. For example, the Fish and pet entity, Pet_ID, are linked to the payment table’s pet_ID. Also, the stock table’s Order_ID is linked to the payments Order_ID and the customer User_ID is connected to payment User_ID. \n",
    " "
   ]
  },
  {
   "cell_type": "code",
   "execution_count": null,
   "metadata": {},
   "outputs": [],
   "source": []
  }
 ],
 "metadata": {
  "kernelspec": {
   "display_name": "Python 3",
   "language": "python",
   "name": "python3"
  },
  "language_info": {
   "codemirror_mode": {
    "name": "ipython",
    "version": 3
   },
   "file_extension": ".py",
   "mimetype": "text/x-python",
   "name": "python",
   "nbconvert_exporter": "python",
   "pygments_lexer": "ipython3",
   "version": "3.7.3"
  }
 },
 "nbformat": 4,
 "nbformat_minor": 2
}
